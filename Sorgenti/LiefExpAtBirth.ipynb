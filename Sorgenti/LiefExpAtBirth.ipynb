{
 "cells": [
  {
   "cell_type": "code",
   "execution_count": 7,
   "metadata": {},
   "outputs": [
    {
     "name": "stdout",
     "output_type": "stream",
     "text": [
      "\n"
     ]
    }
   ],
   "source": [
    "#import pandas as pd\n",
    "\n",
    "f = open(\"/workspace/VS/DataSet/Carbon dioxide (CO2) Emissions.csv\", \"r\")\n",
    "line = f.readline()\n",
    "stati = []\n",
    "prev = \"\"\n",
    "i = 0\n",
    "while line != \"\":\n",
    "    elments = line.split(\",\")\n",
    "    if elments[0] == prev:\n",
    "        line = f.readline()\n",
    "        continue\n",
    "    stati.append(elments[0])\n",
    "    prev = elments[0]\n",
    "    line = f.readline()\n",
    "f.close()\n",
    "print(stati)\n",
    "\n",
    "f = open(\"/workspace/VS/DataSet/Life expectancy at birth.csv\", \"r\")\n",
    "line = f.readline()\n",
    "while line != \"\":\n",
    "    \n",
    "    line = f.readline()\n",
    "f.close()"
   ]
  }
 ],
 "metadata": {
  "kernelspec": {
   "display_name": "Python 3",
   "language": "python",
   "name": "python3"
  },
  "language_info": {
   "codemirror_mode": {
    "name": "ipython",
    "version": 3
   },
   "file_extension": ".py",
   "mimetype": "text/x-python",
   "name": "python",
   "nbconvert_exporter": "python",
   "pygments_lexer": "ipython3",
   "version": "3.12.0"
  }
 },
 "nbformat": 4,
 "nbformat_minor": 2
}
